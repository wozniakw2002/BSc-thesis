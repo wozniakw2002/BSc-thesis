{
 "cells": [
  {
   "cell_type": "code",
   "execution_count": null,
   "metadata": {},
   "outputs": [],
   "source": [
    "%load_ext autoreload\n",
    "%autoreload 2\n",
    "import os\n",
    "if 'Notebooks' in os.getcwd():\n",
    "    project_root = os.path.abspath(os.path.join(os.getcwd(), \"..\"))\n",
    "    os.chdir(project_root)\n",
    "from Modules.ModelModule import DataPreparation\n",
    "from Modules.ModelModule import Model"
   ]
  },
  {
   "cell_type": "code",
   "execution_count": null,
   "metadata": {},
   "outputs": [],
   "source": [
    "DataPreparation.training_data_preparation(full_augmentation=False, save_data=True,\n",
    "                                          save_train_path = \"train_data\", save_val_path= \"val_data\", save_test_path= \"test_data\")\n",
    "model = Model.example_model()\n",
    "history_test, prediction_test = Model.training_pipeline(model = model, name = 'test',\n",
    "                                                       load_saved_data = True, train_path = \"train_data\", val_path= \"val_data\", test_path= \"test_data\")"
   ]
  }
 ],
 "metadata": {
  "kernelspec": {
   "display_name": ".venv",
   "language": "python",
   "name": "python3"
  },
  "language_info": {
   "codemirror_mode": {
    "name": "ipython",
    "version": 3
   },
   "file_extension": ".py",
   "mimetype": "text/x-python",
   "name": "python",
   "nbconvert_exporter": "python",
   "pygments_lexer": "ipython3",
   "version": "3.12.7"
  }
 },
 "nbformat": 4,
 "nbformat_minor": 2
}
