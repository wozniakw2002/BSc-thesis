{
 "cells": [
  {
   "cell_type": "code",
   "execution_count": null,
   "metadata": {},
   "outputs": [],
   "source": [
    "%load_ext autoreload\n",
    "%autoreload 2\n",
    "import os\n",
    "if 'Notebooks' in os.getcwd():\n",
    "    project_root = os.path.abspath(os.path.join(os.getcwd(), \"..\"))\n",
    "    os.chdir(project_root)\n",
    "from Modules.ModelModule import DataPreparation\n",
    "from Modules.ModelModule import Model"
   ]
  },
  {
   "cell_type": "code",
   "execution_count": 5,
   "metadata": {},
   "outputs": [
    {
     "name": "stdout",
     "output_type": "stream",
     "text": [
      "File saved\n",
      "File saved\n",
      "File saved\n",
      "Epoch 1/10\n",
      "\u001b[1m127/127\u001b[0m \u001b[32m━━━━━━━━━━━━━━━━━━━━\u001b[0m\u001b[37m\u001b[0m \u001b[1m17s\u001b[0m 125ms/step - AUC: 0.6006 - Precision: 0.6898 - Recall: 0.9217 - accuracy: 0.6629 - loss: 0.9009 - val_AUC: 0.7261 - val_Precision: 0.6829 - val_Recall: 1.0000 - val_accuracy: 0.6829 - val_loss: 0.5445\n",
      "Epoch 2/10\n",
      "\u001b[1m127/127\u001b[0m \u001b[32m━━━━━━━━━━━━━━━━━━━━\u001b[0m\u001b[37m\u001b[0m \u001b[1m16s\u001b[0m 126ms/step - AUC: 0.7001 - Precision: 0.6753 - Recall: 0.9992 - accuracy: 0.6753 - loss: 0.5483 - val_AUC: 0.7473 - val_Precision: 0.6829 - val_Recall: 1.0000 - val_accuracy: 0.6829 - val_loss: 0.5320\n",
      "Epoch 3/10\n",
      "\u001b[1m127/127\u001b[0m \u001b[32m━━━━━━━━━━━━━━━━━━━━\u001b[0m\u001b[37m\u001b[0m \u001b[1m17s\u001b[0m 130ms/step - AUC: 0.7033 - Precision: 0.6727 - Recall: 0.9945 - accuracy: 0.6718 - loss: 0.5401 - val_AUC: 0.7048 - val_Precision: 0.6829 - val_Recall: 1.0000 - val_accuracy: 0.6829 - val_loss: 0.5238\n",
      "Epoch 4/10\n",
      "\u001b[1m127/127\u001b[0m \u001b[32m━━━━━━━━━━━━━━━━━━━━\u001b[0m\u001b[37m\u001b[0m \u001b[1m17s\u001b[0m 131ms/step - AUC: 0.7046 - Precision: 0.6835 - Recall: 0.9928 - accuracy: 0.6826 - loss: 0.5267 - val_AUC: 0.8003 - val_Precision: 0.7506 - val_Recall: 0.9319 - val_accuracy: 0.7421 - val_loss: 0.4806\n",
      "Epoch 5/10\n",
      "\u001b[1m127/127\u001b[0m \u001b[32m━━━━━━━━━━━━━━━━━━━━\u001b[0m\u001b[37m\u001b[0m \u001b[1m16s\u001b[0m 129ms/step - AUC: 0.7864 - Precision: 0.7419 - Recall: 0.8979 - accuracy: 0.7209 - loss: 0.4912 - val_AUC: 0.8602 - val_Precision: 0.7978 - val_Recall: 0.9164 - val_accuracy: 0.7844 - val_loss: 0.4275\n",
      "Epoch 6/10\n",
      "\u001b[1m127/127\u001b[0m \u001b[32m━━━━━━━━━━━━━━━━━━━━\u001b[0m\u001b[37m\u001b[0m \u001b[1m16s\u001b[0m 129ms/step - AUC: 0.8368 - Precision: 0.7882 - Recall: 0.8775 - accuracy: 0.7616 - loss: 0.4575 - val_AUC: 0.8101 - val_Precision: 0.7079 - val_Recall: 0.9752 - val_accuracy: 0.7082 - val_loss: 0.4756\n",
      "Epoch 7/10\n",
      "\u001b[1m127/127\u001b[0m \u001b[32m━━━━━━━━━━━━━━━━━━━━\u001b[0m\u001b[37m\u001b[0m \u001b[1m16s\u001b[0m 129ms/step - AUC: 0.8481 - Precision: 0.7849 - Recall: 0.9124 - accuracy: 0.7714 - loss: 0.4402 - val_AUC: 0.8947 - val_Precision: 0.8091 - val_Recall: 0.9319 - val_accuracy: 0.8034 - val_loss: 0.3825\n",
      "Epoch 8/10\n",
      "\u001b[1m127/127\u001b[0m \u001b[32m━━━━━━━━━━━━━━━━━━━━\u001b[0m\u001b[37m\u001b[0m \u001b[1m17s\u001b[0m 130ms/step - AUC: 0.8884 - Precision: 0.8329 - Recall: 0.8917 - accuracy: 0.8075 - loss: 0.3904 - val_AUC: 0.9267 - val_Precision: 0.9141 - val_Recall: 0.8235 - val_accuracy: 0.8266 - val_loss: 0.3449\n",
      "Epoch 9/10\n",
      "\u001b[1m127/127\u001b[0m \u001b[32m━━━━━━━━━━━━━━━━━━━━\u001b[0m\u001b[37m\u001b[0m \u001b[1m17s\u001b[0m 133ms/step - AUC: 0.9227 - Precision: 0.8838 - Recall: 0.8984 - accuracy: 0.8517 - loss: 0.3331 - val_AUC: 0.9109 - val_Precision: 0.8490 - val_Recall: 0.9226 - val_accuracy: 0.8351 - val_loss: 0.3552\n",
      "Epoch 10/10\n",
      "\u001b[1m127/127\u001b[0m \u001b[32m━━━━━━━━━━━━━━━━━━━━\u001b[0m\u001b[37m\u001b[0m \u001b[1m17s\u001b[0m 137ms/step - AUC: 0.9319 - Precision: 0.8889 - Recall: 0.9124 - accuracy: 0.8655 - loss: 0.3145 - val_AUC: 0.9377 - val_Precision: 0.9137 - val_Recall: 0.8854 - val_accuracy: 0.8647 - val_loss: 0.3021\n",
      "\u001b[1m127/127\u001b[0m \u001b[32m━━━━━━━━━━━━━━━━━━━━\u001b[0m\u001b[37m\u001b[0m \u001b[1m5s\u001b[0m 37ms/step\n",
      "\u001b[1m15/15\u001b[0m \u001b[32m━━━━━━━━━━━━━━━━━━━━\u001b[0m\u001b[37m\u001b[0m \u001b[1m1s\u001b[0m 36ms/step\n",
      "\u001b[1m20/20\u001b[0m \u001b[32m━━━━━━━━━━━━━━━━━━━━\u001b[0m\u001b[37m\u001b[0m \u001b[1m1s\u001b[0m 36ms/step\n"
     ]
    }
   ],
   "source": [
    "DataPreparation.training_data_preparation(full_augmentation=False, save_data=True,\n",
    "                                          save_train_path = \"train_data\", save_val_path= \"val_data\", save_test_path= \"test_data\")\n",
    "model = Model.example_model()\n",
    "history_test, prediction_test = Model.training_pipeline(model = model, name = 'test',\n",
    "                                                       load_saved_data = True, train_path = \"train_data\", val_path= \"val_data\", test_path= \"test_data\")"
   ]
  },
  {
   "cell_type": "code",
   "execution_count": 57,
   "metadata": {},
   "outputs": [],
   "source": [
    "x_normal =  DataPreparation.single_photo_preparation(r\"C:\\Users\\sebas\\Documents\\GitHub\\BSc-thesis\\data\\train\\train\\Osteoarthritis\\MildG2 (1).png\")\n",
    "x_wide = DataPreparation.single_photo_preparation(r\"C:\\Users\\sebas\\Documents\\GitHub\\BSc-thesis\\data\\train\\train\\Osteoarthritis\\MildG2 (200).png\")"
   ]
  },
  {
   "cell_type": "code",
   "execution_count": 59,
   "metadata": {},
   "outputs": [
    {
     "name": "stdout",
     "output_type": "stream",
     "text": [
      "\u001b[1m1/1\u001b[0m \u001b[32m━━━━━━━━━━━━━━━━━━━━\u001b[0m\u001b[37m\u001b[0m \u001b[1m0s\u001b[0m 36ms/step\n"
     ]
    },
    {
     "data": {
      "text/plain": [
       "(array([[0.99997276]], dtype=float32), array([[1]], dtype=int32))"
      ]
     },
     "execution_count": 59,
     "metadata": {},
     "output_type": "execute_result"
    }
   ],
   "source": [
    "Model.predict(model,x_normal)"
   ]
  },
  {
   "cell_type": "code",
   "execution_count": 60,
   "metadata": {},
   "outputs": [
    {
     "name": "stdout",
     "output_type": "stream",
     "text": [
      "\u001b[1m1/1\u001b[0m \u001b[32m━━━━━━━━━━━━━━━━━━━━\u001b[0m\u001b[37m\u001b[0m \u001b[1m0s\u001b[0m 32ms/step\n"
     ]
    },
    {
     "data": {
      "text/plain": [
       "(array([[0.999999 ],\n",
       "        [0.9998694]], dtype=float32),\n",
       " array([[1],\n",
       "        [1]], dtype=int32))"
      ]
     },
     "execution_count": 60,
     "metadata": {},
     "output_type": "execute_result"
    }
   ],
   "source": [
    "Model.predict(model,x_wide)"
   ]
  }
 ],
 "metadata": {
  "kernelspec": {
   "display_name": ".venv",
   "language": "python",
   "name": "python3"
  },
  "language_info": {
   "codemirror_mode": {
    "name": "ipython",
    "version": 3
   },
   "file_extension": ".py",
   "mimetype": "text/x-python",
   "name": "python",
   "nbconvert_exporter": "python",
   "pygments_lexer": "ipython3",
   "version": "3.12.7"
  }
 },
 "nbformat": 4,
 "nbformat_minor": 2
}
