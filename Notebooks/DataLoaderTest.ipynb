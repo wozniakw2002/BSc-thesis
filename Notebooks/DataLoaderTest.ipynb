{
 "cells": [
  {
   "cell_type": "code",
   "execution_count": 1,
   "metadata": {},
   "outputs": [],
   "source": [
    "%load_ext autoreload\n",
    "%autoreload 2\n",
    "import os\n",
    "if 'Notebooks' in os.getcwd():\n",
    "    project_root = os.path.abspath(os.path.join(os.getcwd(), \"..\"))\n",
    "    os.chdir(project_root)\n",
    "\n",
    "from Modules.DataLoaderModule import DataLoader\n",
    "import numpy as np"
   ]
  },
  {
   "cell_type": "code",
   "execution_count": 2,
   "metadata": {},
   "outputs": [
    {
     "name": "stdout",
     "output_type": "stream",
     "text": [
      "129\n",
      "2862\n"
     ]
    }
   ],
   "source": [
    "loader = DataLoader()\n",
    "X,Y = loader.load_data_from_folder_as_png('data')\n",
    "ok = 0\n",
    "duze = 0\n",
    "for i in range(len(X)):\n",
    "    if np.shape(X[i]) == (161,640):\n",
    "        duze +=1\n",
    "    else:\n",
    "        ok+=1\n",
    "print(duze)\n",
    "print(ok)"
   ]
  },
  {
   "cell_type": "code",
   "execution_count": 3,
   "metadata": {},
   "outputs": [
    {
     "data": {
      "text/plain": [
       "array([[113, 115, 121, ...,  40,  36,  32],\n",
       "       [113, 115, 119, ...,  39,  36,  35],\n",
       "       [113, 112, 118, ...,  38,  33,  33],\n",
       "       ...,\n",
       "       [ 55,  53,  56, ..., 136, 126, 116],\n",
       "       [ 56,  56,  59, ..., 134, 123, 116],\n",
       "       [ 56,  58,  58, ..., 134, 124, 121]], dtype=uint8)"
      ]
     },
     "execution_count": 3,
     "metadata": {},
     "output_type": "execute_result"
    }
   ],
   "source": [
    "loader.load_single_photo('E:/OneDrive/Pulpit/BSc-thesis/data/train/train/Normal/9100442L.png')"
   ]
  },
  {
   "cell_type": "code",
   "execution_count": 5,
   "metadata": {},
   "outputs": [
    {
     "data": {
      "text/plain": [
       "array([[ 77,  78,  79, ...,  92,  92,  91],\n",
       "       [ 77,  78,  78, ...,  92,  91,  90],\n",
       "       [ 77,  77,  76, ...,  91,  92,  92],\n",
       "       ...,\n",
       "       [102, 100,  97, ...,  57,  55,  57],\n",
       "       [102, 101,  98, ...,  58,  56,  55],\n",
       "       [ 99, 104, 105, ...,  56,  55,  56]], dtype=uint8)"
      ]
     },
     "execution_count": 5,
     "metadata": {},
     "output_type": "execute_result"
    }
   ],
   "source": [
    "loader.load_single_photo(r\"E:\\OneDrive\\Pulpit\\BSc-thesis\\data\\train\\train\\Normal\\9457863R.png\")"
   ]
  },
  {
   "cell_type": "code",
   "execution_count": 23,
   "metadata": {},
   "outputs": [
    {
     "name": "stdout",
     "output_type": "stream",
     "text": [
      "File saved\n"
     ]
    }
   ],
   "source": [
    "loader.save_data_as_array('test', X, Y)"
   ]
  },
  {
   "cell_type": "code",
   "execution_count": 32,
   "metadata": {},
   "outputs": [],
   "source": [
    "X,Y = loader.load_data_as_array('test')"
   ]
  },
  {
   "cell_type": "code",
   "execution_count": 33,
   "metadata": {},
   "outputs": [
    {
     "name": "stdout",
     "output_type": "stream",
     "text": [
      "[array([[116, 114, 115, ..., 123, 125, 122],\n",
      "        [116, 113, 113, ..., 123, 126, 125],\n",
      "        [112, 111, 110, ..., 124, 121, 124],\n",
      "        ...,\n",
      "        [111, 110, 114, ...,  75,  76,  76],\n",
      "        [110, 110, 114, ...,  77,  75,  77],\n",
      "        [109, 107, 114, ...,  75,  73,  76]], dtype=uint8)\n",
      " array([[141, 143, 142, ...,  90,  88,  86],\n",
      "        [142, 142, 142, ...,  91,  90,  87],\n",
      "        [139, 140, 140, ...,  92,  90,  87],\n",
      "        ...,\n",
      "        [ 37,  41,  46, ..., 177, 175, 163],\n",
      "        [ 41,  41,  45, ..., 175, 171, 161],\n",
      "        [ 39,  41,  45, ..., 172, 166, 154]], dtype=uint8)\n",
      " array([[113, 115, 121, ...,  40,  36,  32],\n",
      "        [113, 115, 119, ...,  39,  36,  35],\n",
      "        [113, 112, 118, ...,  38,  33,  33],\n",
      "        ...,\n",
      "        [ 55,  53,  56, ..., 136, 126, 116],\n",
      "        [ 56,  56,  59, ..., 134, 123, 116],\n",
      "        [ 56,  58,  58, ..., 134, 124, 121]], dtype=uint8) ...\n",
      " array([[84, 84, 84, ..., 66, 66, 66],\n",
      "        [84, 84, 84, ..., 66, 66, 66],\n",
      "        [84, 84, 84, ..., 66, 66, 66],\n",
      "        ...,\n",
      "        [88, 88, 88, ..., 66, 66, 66],\n",
      "        [88, 88, 88, ..., 66, 66, 66],\n",
      "        [88, 88, 88, ..., 66, 66, 66]], dtype=uint8)\n",
      " array([[46, 46, 46, ..., 66, 67, 67],\n",
      "        [46, 46, 46, ..., 66, 67, 67],\n",
      "        [46, 46, 46, ..., 66, 66, 66],\n",
      "        ...,\n",
      "        [46, 46, 46, ..., 68, 68, 68],\n",
      "        [46, 46, 46, ..., 68, 68, 68],\n",
      "        [46, 46, 46, ..., 68, 68, 68]], dtype=uint8)\n",
      " array([[49, 48, 48, ..., 15, 16, 15],\n",
      "        [49, 48, 48, ..., 16, 15, 15],\n",
      "        [49, 49, 48, ..., 15, 16, 15],\n",
      "        ...,\n",
      "        [48, 48, 48, ..., 19, 19, 19],\n",
      "        [48, 48, 48, ..., 19, 19, 19],\n",
      "        [48, 48, 48, ..., 19, 19, 19]], dtype=uint8)]\n",
      "[0 0 0 ... 1 1 1]\n"
     ]
    }
   ],
   "source": [
    "print(X)\n",
    "print(Y)"
   ]
  }
 ],
 "metadata": {
  "kernelspec": {
   "display_name": "bsc-venv",
   "language": "python",
   "name": "python3"
  },
  "language_info": {
   "codemirror_mode": {
    "name": "ipython",
    "version": 3
   },
   "file_extension": ".py",
   "mimetype": "text/x-python",
   "name": "python",
   "nbconvert_exporter": "python",
   "pygments_lexer": "ipython3",
   "version": "3.13.0"
  }
 },
 "nbformat": 4,
 "nbformat_minor": 2
}
