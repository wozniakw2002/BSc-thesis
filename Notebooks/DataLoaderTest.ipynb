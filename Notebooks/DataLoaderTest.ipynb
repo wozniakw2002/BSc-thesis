{
 "cells": [
  {
   "cell_type": "code",
   "execution_count": null,
   "metadata": {},
   "outputs": [
    {
     "name": "stdout",
     "output_type": "stream",
     "text": [
      "The autoreload extension is already loaded. To reload it, use:\n",
      "  %reload_ext autoreload\n"
     ]
    }
   ],

   "source": [
    "%load_ext autoreload\n",
    "%autoreload 2\n",
    "import os\n",
    "if 'Notebooks' in os.getcwd():\n",
    "    project_root = os.path.abspath(os.path.join(os.getcwd(), \"..\"))\n",
    "    os.chdir(project_root)\n",
    "\n",
    "from Modules.DataLoaderModule import DataLoader\n",
    "from Modules.PreprocessingModule import Preprocessor\n",
    "from Modules.StatisticsModule import Statistics\n",
    "import numpy as np\n",
    "import cv2"


    "from Modules.PreprocessingModule import Preprocessor\n",
    "import numpy as np\n",
    "import cv2"
   ]
  },
  {
   "cell_type": "code",
   "execution_count": 5,

   "metadata": {},
   "outputs": [
    {
     "name": "stdout",
     "output_type": "stream",
     "text": [
      "129\n",
      "2862\n"
     ]
    }
   ],
   "source": [
    "loader = DataLoader()\n",
    "X,Y = loader.load_data_from_folder_as_png('data')\n",
    "ok = 0\n",
    "duze = 0\n",
    "for i in range(len(X)):\n",
    "    if np.shape(X[i]) == (161,640):\n",
    "        duze +=1\n",
    "    else:\n",
    "        ok+=1\n",
    "print(duze)\n",
    "print(ok)"
   ]
  },
  {
   "cell_type": "code",
   "execution_count": 3,
   "metadata": {},
   "outputs": [
    {
     "data": {
      "text/plain": [
       "array([[113, 115, 121, ...,  40,  36,  32],\n",
       "       [113, 115, 119, ...,  39,  36,  35],\n",
       "       [113, 112, 118, ...,  38,  33,  33],\n",
       "       ...,\n",
       "       [ 55,  53,  56, ..., 136, 126, 116],\n",
       "       [ 56,  56,  59, ..., 134, 123, 116],\n",
       "       [ 56,  58,  58, ..., 134, 124, 121]], dtype=uint8)"
      ]
     },
     "execution_count": 3,
     "metadata": {},
     "output_type": "execute_result"
    }
   ],
   "source": [
    "loader.load_single_photo('E:/OneDrive/Pulpit/BSc-thesis/data/train/train/Normal/9100442L.png')"
   ]
  },
  {
   "cell_type": "code",
   "execution_count": 154,
   "metadata": {},
   "outputs": [
    {
     "data": {
      "text/plain": [
       "[array([[ 77,  78,  79, ...,  92,  92,  91],\n",
       "        [ 77,  78,  78, ...,  92,  91,  90],\n",
       "        [ 77,  77,  76, ...,  91,  92,  92],\n",
       "        ...,\n",
       "        [102, 100,  97, ...,  57,  55,  57],\n",
       "        [102, 101,  98, ...,  58,  56,  55],\n",
       "        [ 99, 104, 105, ...,  56,  55,  56]], dtype=uint8)]"
      ]
     },
     "execution_count": 154,

     "metadata": {},
     "output_type": "execute_result"
    }
   ],
   "source": [
    "loader.load_single_photo(r\"E:\\OneDrive\\Pulpit\\BSc-thesis\\data\\train\\train\\Normal\\9457863R.png\")"
   ]
  },
  {
   "cell_type": "code",
   "execution_count": 23,
   "metadata": {},
   "outputs": [
    {
     "name": "stdout",
     "output_type": "stream",
     "text": [
      "File saved\n"
     ]
    }
   ],
   "source": [
    "loader.save_data_as_array('test', X, Y)"
   ]
  },
  {
   "cell_type": "code",
   "execution_count": 32,
   "metadata": {},
   "outputs": [],
   "source": [
    "X,Y = loader.load_data_as_array('test')"
   ]
  },
  {
   "cell_type": "code",
   "execution_count": 33,
   "metadata": {},
   "outputs": [
    {
     "name": "stdout",
     "output_type": "stream",
     "text": [
      "[array([[116, 114, 115, ..., 123, 125, 122],\n",
      "        [116, 113, 113, ..., 123, 126, 125],\n",
      "        [112, 111, 110, ..., 124, 121, 124],\n",
      "        ...,\n",
      "        [111, 110, 114, ...,  75,  76,  76],\n",
      "        [110, 110, 114, ...,  77,  75,  77],\n",
      "        [109, 107, 114, ...,  75,  73,  76]], dtype=uint8)\n",
      " array([[141, 143, 142, ...,  90,  88,  86],\n",
      "        [142, 142, 142, ...,  91,  90,  87],\n",
      "        [139, 140, 140, ...,  92,  90,  87],\n",
      "        ...,\n",
      "        [ 37,  41,  46, ..., 177, 175, 163],\n",
      "        [ 41,  41,  45, ..., 175, 171, 161],\n",
      "        [ 39,  41,  45, ..., 172, 166, 154]], dtype=uint8)\n",
      " array([[113, 115, 121, ...,  40,  36,  32],\n",
      "        [113, 115, 119, ...,  39,  36,  35],\n",
      "        [113, 112, 118, ...,  38,  33,  33],\n",
      "        ...,\n",
      "        [ 55,  53,  56, ..., 136, 126, 116],\n",
      "        [ 56,  56,  59, ..., 134, 123, 116],\n",
      "        [ 56,  58,  58, ..., 134, 124, 121]], dtype=uint8) ...\n",
      " array([[84, 84, 84, ..., 66, 66, 66],\n",
      "        [84, 84, 84, ..., 66, 66, 66],\n",
      "        [84, 84, 84, ..., 66, 66, 66],\n",
      "        ...,\n",
      "        [88, 88, 88, ..., 66, 66, 66],\n",
      "        [88, 88, 88, ..., 66, 66, 66],\n",
      "        [88, 88, 88, ..., 66, 66, 66]], dtype=uint8)\n",
      " array([[46, 46, 46, ..., 66, 67, 67],\n",
      "        [46, 46, 46, ..., 66, 67, 67],\n",
      "        [46, 46, 46, ..., 66, 66, 66],\n",
      "        ...,\n",
      "        [46, 46, 46, ..., 68, 68, 68],\n",
      "        [46, 46, 46, ..., 68, 68, 68],\n",
      "        [46, 46, 46, ..., 68, 68, 68]], dtype=uint8)\n",
      " array([[49, 48, 48, ..., 15, 16, 15],\n",
      "        [49, 48, 48, ..., 16, 15, 15],\n",
      "        [49, 49, 48, ..., 15, 16, 15],\n",
      "        ...,\n",
      "        [48, 48, 48, ..., 19, 19, 19],\n",
      "        [48, 48, 48, ..., 19, 19, 19],\n",
      "        [48, 48, 48, ..., 19, 19, 19]], dtype=uint8)]\n",
      "[0 0 0 ... 1 1 1]\n"
     ]
    }
   ],
   "source": [
    "print(X)\n",
    "print(Y)"
   ]

  },
  {
   "cell_type": "code",
   "execution_count": 7,
   "metadata": {},
   "outputs": [
    {
     "data": {
      "text/plain": [
       "array([array([[0.45490196, 0.44705882, 0.45098039, ..., 0.48235294, 0.49019608,\n",
       "               0.47843137],\n",
       "              [0.45490196, 0.44313725, 0.44313725, ..., 0.48235294, 0.49411765,\n",
       "               0.49019608],\n",
       "              [0.43921569, 0.43529412, 0.43137255, ..., 0.48627451, 0.4745098 ,\n",
       "               0.48627451],\n",
       "              ...,\n",
       "              [0.43529412, 0.43137255, 0.44705882, ..., 0.29411765, 0.29803922,\n",
       "               0.29803922],\n",
       "              [0.43137255, 0.43137255, 0.44705882, ..., 0.30196078, 0.29411765,\n",
       "               0.30196078],\n",
       "              [0.42745098, 0.41960784, 0.44705882, ..., 0.29411765, 0.28627451,\n",
       "               0.29803922]])                                                   ,\n",
       "       array([[0.55294118, 0.56078431, 0.55686275, ..., 0.35294118, 0.34509804,\n",
       "               0.3372549 ],\n",
       "              [0.55686275, 0.55686275, 0.55686275, ..., 0.35686275, 0.35294118,\n",
       "               0.34117647],\n",
       "              [0.54509804, 0.54901961, 0.54901961, ..., 0.36078431, 0.35294118,\n",
       "               0.34117647],\n",
       "              ...,\n",
       "              [0.14509804, 0.16078431, 0.18039216, ..., 0.69411765, 0.68627451,\n",
       "               0.63921569],\n",
       "              [0.16078431, 0.16078431, 0.17647059, ..., 0.68627451, 0.67058824,\n",
       "               0.63137255],\n",
       "              [0.15294118, 0.16078431, 0.17647059, ..., 0.6745098 , 0.65098039,\n",
       "               0.60392157]])                                                   ,\n",
       "       array([[0.44313725, 0.45098039, 0.4745098 , ..., 0.15686275, 0.14117647,\n",
       "               0.1254902 ],\n",
       "              [0.44313725, 0.45098039, 0.46666667, ..., 0.15294118, 0.14117647,\n",
       "               0.1372549 ],\n",
       "              [0.44313725, 0.43921569, 0.4627451 , ..., 0.14901961, 0.12941176,\n",
       "               0.12941176],\n",
       "              ...,\n",
       "              [0.21568627, 0.20784314, 0.21960784, ..., 0.53333333, 0.49411765,\n",
       "               0.45490196],\n",
       "              [0.21960784, 0.21960784, 0.23137255, ..., 0.5254902 , 0.48235294,\n",
       "               0.45490196],\n",
       "              [0.21960784, 0.22745098, 0.22745098, ..., 0.5254902 , 0.48627451,\n",
       "               0.4745098 ]])                                                   ,\n",
       "       ...,\n",
       "       array([[0.32941176, 0.32941176, 0.32941176, ..., 0.25882353, 0.25882353,\n",
       "               0.25882353],\n",
       "              [0.32941176, 0.32941176, 0.32941176, ..., 0.25882353, 0.25882353,\n",
       "               0.25882353],\n",
       "              [0.32941176, 0.32941176, 0.32941176, ..., 0.25882353, 0.25882353,\n",
       "               0.25882353],\n",
       "              ...,\n",
       "              [0.34509804, 0.34509804, 0.34509804, ..., 0.25882353, 0.25882353,\n",
       "               0.25882353],\n",
       "              [0.34509804, 0.34509804, 0.34509804, ..., 0.25882353, 0.25882353,\n",
       "               0.25882353],\n",
       "              [0.34509804, 0.34509804, 0.34509804, ..., 0.25882353, 0.25882353,\n",
       "               0.25882353]])                                                   ,\n",
       "       array([[0.18039216, 0.18039216, 0.18039216, ..., 0.25882353, 0.2627451 ,\n",
       "               0.2627451 ],\n",
       "              [0.18039216, 0.18039216, 0.18039216, ..., 0.25882353, 0.2627451 ,\n",
       "               0.2627451 ],\n",
       "              [0.18039216, 0.18039216, 0.18039216, ..., 0.25882353, 0.25882353,\n",
       "               0.25882353],\n",
       "              ...,\n",
       "              [0.18039216, 0.18039216, 0.18039216, ..., 0.26666667, 0.26666667,\n",
       "               0.26666667],\n",
       "              [0.18039216, 0.18039216, 0.18039216, ..., 0.26666667, 0.26666667,\n",
       "               0.26666667],\n",
       "              [0.18039216, 0.18039216, 0.18039216, ..., 0.26666667, 0.26666667,\n",
       "               0.26666667]])                                                   ,\n",
       "       array([[0.19215686, 0.18823529, 0.18823529, ..., 0.05882353, 0.0627451 ,\n",
       "               0.05882353],\n",
       "              [0.19215686, 0.18823529, 0.18823529, ..., 0.0627451 , 0.05882353,\n",
       "               0.05882353],\n",
       "              [0.19215686, 0.19215686, 0.18823529, ..., 0.05882353, 0.0627451 ,\n",
       "               0.05882353],\n",
       "              ...,\n",
       "              [0.18823529, 0.18823529, 0.18823529, ..., 0.0745098 , 0.0745098 ,\n",
       "               0.0745098 ],\n",
       "              [0.18823529, 0.18823529, 0.18823529, ..., 0.0745098 , 0.0745098 ,\n",
       "               0.0745098 ],\n",
       "              [0.18823529, 0.18823529, 0.18823529, ..., 0.0745098 , 0.0745098 ,\n",
       "               0.0745098 ]])                                                   ],\n",
       "      dtype=object)"
      ]
     },
     "execution_count": 7,
     "metadata": {},
     "output_type": "execute_result"
    }
   ],
   "source": [
    "Preprocessor.normalize_data(X)"
   ]
  },
  {
   "cell_type": "code",
   "execution_count": 13,
   "metadata": {},
   "outputs": [],
   "source": [
    "data = Preprocessor.split_data(X, Y)"
   ]
  },
  {
   "cell_type": "code",
   "execution_count": 14,
   "metadata": {},
   "outputs": [
    {
     "name": "stdout",
     "output_type": "stream",
     "text": [
      "2033\n",
      "509\n",
      "449\n",
      "2033\n",
      "509\n",
      "449\n"
     ]
    }
   ],
   "source": [
    "for el in data:\n",
    "    print(len(el))"
   ]
  },
  {
   "cell_type": "code",
   "execution_count": 41,
   "metadata": {},
   "outputs": [
    {
     "name": "stdout",
     "output_type": "stream",
     "text": [
      "[[33 39 41 ... 51 46 37]\n",
      " [32 39 41 ... 50 45 37]\n",
      " [30 39 41 ... 51 43 37]\n",
      " ...\n",
      " [64 68 70 ...  0  0  0]\n",
      " [64 69 70 ...  0  0  0]\n",
      " [65 69 71 ...  0  0  0]]\n"
     ]
    }
   ],
   "source": [
    "for el in X:\n",
    "    if np.shape(el) == (161, 640):\n",
    "        d = cv2.resize(el, (224,224))\n",
    "        c = el\n",
    "        break\n",
    "print(d)"
   ]
  },
  {
   "cell_type": "code",
   "execution_count": 43,
   "metadata": {},
   "outputs": [
    {
     "data": {
      "text/plain": [
       "-1"
      ]
     },
     "execution_count": 43,
     "metadata": {},
     "output_type": "execute_result"
    }
   ],
   "source": [
    "cv2.imshow('image',c)\n",
    "cv2.waitKey(0)\n",
    "cv2.imshow('image',d)\n",
    "cv2.waitKey(0)"
   ]
  },
  {
   "cell_type": "code",
   "execution_count": 28,
   "metadata": {},
   "outputs": [
    {
     "data": {
      "text/plain": [
       "(224, 224)"
      ]
     },
     "execution_count": 28,
     "metadata": {},
     "output_type": "execute_result"
    }
   ],
   "source": [
    "np.shape(d)"
   ]
  },
  {
   "cell_type": "code",
   "execution_count": 44,
   "metadata": {},
   "outputs": [],
   "source": [
    "left_part =c[:, :320]\n",
    "right_part = c[:, 320:]"
   ]
  },
  {
   "cell_type": "code",
   "execution_count": null,
   "metadata": {},
   "outputs": [
    {
     "data": {
      "text/plain": [
       "-1"
      ]
     },
     "execution_count": 46,
     "metadata": {},
     "output_type": "execute_result"
    }
   ],
   "source": [
    "cv2.imshow('image',c)\n",
    "cv2.waitKey(0)\n",
    "cv2.imshow('image',left_part)\n",
    "cv2.waitKey(0)\n",
    "cv2.imshow('image',right_part)\n",
    "cv2.waitKey(0)"
   ]
  },
  {
   "cell_type": "code",
   "execution_count": 69,
   "metadata": {},
   "outputs": [],
   "source": [
    "indexy = [i for i, v in enumerate(X) if np.shape(v) == (161,640)]"
   ]
  },
  {
   "cell_type": "code",
   "execution_count": 70,
   "metadata": {},
   "outputs": [
    {
     "data": {
      "text/plain": [
       "129"
      ]
     },
     "execution_count": 70,
     "metadata": {},
     "output_type": "execute_result"
    }
   ],
   "source": [
    "len(indexy)"
   ]
  },
  {
   "cell_type": "code",
   "execution_count": 73,
   "metadata": {},
   "outputs": [],
   "source": [
    "wykluczone = [i for i in range(len(X)) if i not in indexy]"
   ]
  },
  {
   "cell_type": "code",
   "execution_count": 75,
   "metadata": {},
   "outputs": [
    {
     "data": {
      "text/plain": [
       "2862"
      ]
     },
     "execution_count": 75,
     "metadata": {},
     "output_type": "execute_result"
    }
   ],
   "source": [
    "len(wykluczone)"
   ]
  },
  {
   "cell_type": "code",
   "execution_count": 80,
   "metadata": {},
   "outputs": [
    {
     "data": {
      "text/plain": [
       "array([1, 1, 1, 1, 0, 0, 1, 1, 0, 0, 1, 1, 1, 1, 0, 0, 0, 0])"
      ]
     },
     "execution_count": 80,
     "metadata": {},
     "output_type": "execute_result"
    }
   ],
   "source": [
    "x = [1,1,0,1,0,1,1,0,0]\n",
    "np.repeat(x,2)"
   ]
  },
  {
   "cell_type": "code",
   "execution_count": 107,
   "metadata": {},
   "outputs": [],
   "source": [
    "x, y = Preprocessor.split_wide_photos(X,Y)"
   ]
  },
  {
   "cell_type": "code",
   "execution_count": 108,
   "metadata": {},
   "outputs": [],
   "source": [
    "X_res = Preprocessor.resize_photos(x)"
   ]
  },
  {
   "cell_type": "code",
   "execution_count": 111,
   "metadata": {},
   "outputs": [
    {
     "data": {
      "text/plain": [
       "-1"
      ]
     },
     "execution_count": 111,
     "metadata": {},
     "output_type": "execute_result"
    }
   ],
   "source": [
    "cv2.imshow('image',X_res[2011])\n",
    "cv2.waitKey(0)"
   ]
  },
  {
   "cell_type": "code",
   "execution_count": 113,
   "metadata": {},
   "outputs": [
    {
     "data": {
      "text/plain": [
       "3120"
      ]
     },
     "execution_count": 113,
     "metadata": {},
     "output_type": "execute_result"
    }
   ],
   "source": [
    "len(X_res)\n",
    "len(y)"
   ]
  },
  {
   "cell_type": "code",
   "execution_count": null,
   "metadata": {},
   "outputs": [
    {
     "data": {
      "text/plain": [
       "-1"
      ]
     },
     "execution_count": 114,
     "metadata": {},
     "output_type": "execute_result"
    }
   ],
   "source": [
    "test = X_res[0]"
   ]
  },
  {
   "cell_type": "code",
   "execution_count": 123,
   "metadata": {},
   "outputs": [],
   "source": [
    "test_fliped = cv2.flip(test,1)"
   ]
  },
  {
   "cell_type": "code",
   "execution_count": 126,
   "metadata": {},
   "outputs": [
    {
     "data": {
      "text/plain": [
       "-1"
      ]
     },
     "execution_count": 126,
     "metadata": {},
     "output_type": "execute_result"
    }
   ],
   "source": [
    "cv2.imshow('image',test)\n",
    "cv2.waitKey(0)\n",
    "cv2.imshow('image',test_fliped)\n",
    "cv2.waitKey(0)"
   ]
  },
  {
   "cell_type": "code",
   "execution_count": 137,
   "metadata": {},
   "outputs": [],
   "source": [
    "X_flip, Y_flip = Preprocessor.flip_photos(X_res,y)"
   ]
  },
  {
   "cell_type": "code",
   "execution_count": 139,
   "metadata": {},
   "outputs": [
    {
     "data": {
      "text/plain": [
       "-1"
      ]
     },
     "execution_count": 139,
     "metadata": {},
     "output_type": "execute_result"
    }
   ],
   "source": [
    "cv2.imshow('image',X_flip[0])\n",
    "cv2.waitKey(0)\n",
    "cv2.imshow('image',X_flip[1])\n",
    "cv2.waitKey(0)"
   ]
  },
  {
   "cell_type": "code",
   "execution_count": 131,
   "metadata": {},
   "outputs": [],
   "source": [
    "cos = np.repeat(x,2)"
   ]
  },
  {
   "cell_type": "code",
   "execution_count": 150,
   "metadata": {},
   "outputs": [],
   "source": [
    "X_train, X_test, X_val, Y_train, Y_test, Y_val = Preprocessor.split_data(X,Y)"
   ]

  },
  {
   "cell_type": "code",
   "execution_count": 16,
   "metadata": {},
   "outputs": [
    {
     "data": {
      "text/plain": [
       "0.8"
      ]
     },
     "execution_count": 16,
     "metadata": {},
     "output_type": "execute_result"
    }
   ],
   "source": [
    "Y = np.array([0,0,1,1,1,1,1,0,1,1])\n",
    "Y_pred = np.array([1,1,1,1,1,1,1,0,1,1])\n",
    "Statistics.accuracy(Y, Y_pred)"
   ]
  },
  {
   "cell_type": "code",
   "execution_count": 7,
   "metadata": {},
   "outputs": [
    {
     "data": {
      "text/plain": [
       "0.7692307692307693"
      ]
     },
     "execution_count": 7,
     "metadata": {},
     "output_type": "execute_result"
    }
   ],
   "source": [
    "Statistics.f1_score(Y, Y_pred)"
   ]
  },
  {
   "cell_type": "code",
   "execution_count": 8,
   "metadata": {},
   "outputs": [
    {
     "data": {
      "text/plain": [
       "0.8333333333333334"
      ]
     },
     "execution_count": 8,
     "metadata": {},
     "output_type": "execute_result"
    }
   ],
   "source": [
    "Statistics.preccision(Y, Y_pred)"
   ]
  },
  {
   "cell_type": "code",
   "execution_count": 9,
   "metadata": {},
   "outputs": [
    {
     "data": {
      "text/plain": [
       "0.7142857142857143"
      ]
     },
     "execution_count": 9,
     "metadata": {},
     "output_type": "execute_result"
    }
   ],
   "source": [
    "Statistics.recall(Y, Y_pred)"
   ]
  },
  {
   "cell_type": "code",
   "execution_count": 30,
   "metadata": {},
   "outputs": [],
   "source": [
    "Y = np.random.randint(0,2,1000) \n",
    "Y_pred = (Y + np.random.randint(0,2,1000)) % 2"
   ]
  },
  {
   "cell_type": "code",
   "execution_count": 32,
   "metadata": {},
   "outputs": [
    {
     "data": {
      "image/png": "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",
      "text/plain": [
       "<Figure size 640x480 with 1 Axes>"
      ]
     },
     "metadata": {},
     "output_type": "display_data"
    }
   ],
   "source": [
    "Statistics.roc_curve(Y,Y_pred)"
   ]
  }
 ],
 "metadata": {
  "kernelspec": {
   "display_name": ".venv",

   "language": "python",
   "name": "python3"
  },
  "language_info": {
   "codemirror_mode": {
    "name": "ipython",
    "version": 3
   },
   "file_extension": ".py",
   "mimetype": "text/x-python",
   "name": "python",
   "nbconvert_exporter": "python",
   "pygments_lexer": "ipython3",
   "version": "3.12.7"
  }
 },
 "nbformat": 4,
 "nbformat_minor": 2
}
