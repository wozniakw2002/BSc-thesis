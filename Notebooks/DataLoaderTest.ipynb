{
 "cells": [
  {
   "cell_type": "code",
   "execution_count": 15,
   "metadata": {},
   "outputs": [
    {
     "name": "stdout",
     "output_type": "stream",
     "text": [
      "The autoreload extension is already loaded. To reload it, use:\n",
      "  %reload_ext autoreload\n"
     ]
    }
   ],
   "source": [
    "%load_ext autoreload\n",
    "%autoreload 2\n",
    "import os\n",
    "if 'Notebooks' in os.getcwd():\n",
    "    project_root = os.path.abspath(os.path.join(os.getcwd(), \"..\"))\n",
    "    os.chdir(project_root)\n",
    "\n",
    "from Modules.DataLoaderModule import DataLoader\n",
    "from Modules.PreprocessingModule import Preprocessor\n",
    "import numpy as np\n",
    "import cv2"
   ]
  },
  {
   "cell_type": "code",
   "execution_count": 149,
   "metadata": {},
   "outputs": [
    {
     "name": "stdout",
     "output_type": "stream",
     "text": [
      "129\n",
      "2862\n"
     ]
    }
   ],
   "source": [
    "loader = DataLoader()\n",
    "X,Y = loader.load_data_from_folder_as_png('data')\n",
    "ok = 0\n",
    "duze = 0\n",
    "for i in range(len(X)):\n",
    "    if np.shape(X[i]) == (161,640):\n",
    "        duze +=1\n",
    "    else:\n",
    "        ok+=1\n",
    "print(duze)\n",
    "print(ok)"
   ]
  },
  {
   "cell_type": "code",
   "execution_count": 3,
   "metadata": {},
   "outputs": [
    {
     "data": {
      "text/plain": [
       "array([[113, 115, 121, ...,  40,  36,  32],\n",
       "       [113, 115, 119, ...,  39,  36,  35],\n",
       "       [113, 112, 118, ...,  38,  33,  33],\n",
       "       ...,\n",
       "       [ 55,  53,  56, ..., 136, 126, 116],\n",
       "       [ 56,  56,  59, ..., 134, 123, 116],\n",
       "       [ 56,  58,  58, ..., 134, 124, 121]], dtype=uint8)"
      ]
     },
     "execution_count": 3,
     "metadata": {},
     "output_type": "execute_result"
    }
   ],
   "source": [
    "loader.load_single_photo('E:/OneDrive/Pulpit/BSc-thesis/data/train/train/Normal/9100442L.png')"
   ]
  },
  {
   "cell_type": "code",
   "execution_count": 154,
   "metadata": {},
   "outputs": [
    {
     "data": {
      "text/plain": [
       "[array([[ 77,  78,  79, ...,  92,  92,  91],\n",
       "        [ 77,  78,  78, ...,  92,  91,  90],\n",
       "        [ 77,  77,  76, ...,  91,  92,  92],\n",
       "        ...,\n",
       "        [102, 100,  97, ...,  57,  55,  57],\n",
       "        [102, 101,  98, ...,  58,  56,  55],\n",
       "        [ 99, 104, 105, ...,  56,  55,  56]], dtype=uint8)]"
      ]
     },
     "execution_count": 154,
     "metadata": {},
     "output_type": "execute_result"
    }
   ],
   "source": [
    "loader.load_single_photo(r\"E:\\OneDrive\\Pulpit\\BSc-thesis\\data\\train\\train\\Normal\\9457863R.png\")"
   ]
  },
  {
   "cell_type": "code",
   "execution_count": 23,
   "metadata": {},
   "outputs": [
    {
     "name": "stdout",
     "output_type": "stream",
     "text": [
      "File saved\n"
     ]
    }
   ],
   "source": [
    "loader.save_data_as_array('test', X, Y)"
   ]
  },
  {
   "cell_type": "code",
   "execution_count": 32,
   "metadata": {},
   "outputs": [],
   "source": [
    "X,Y = loader.load_data_as_array('test')"
   ]
  },
  {
   "cell_type": "code",
   "execution_count": 33,
   "metadata": {},
   "outputs": [
    {
     "name": "stdout",
     "output_type": "stream",
     "text": [
      "[array([[116, 114, 115, ..., 123, 125, 122],\n",
      "        [116, 113, 113, ..., 123, 126, 125],\n",
      "        [112, 111, 110, ..., 124, 121, 124],\n",
      "        ...,\n",
      "        [111, 110, 114, ...,  75,  76,  76],\n",
      "        [110, 110, 114, ...,  77,  75,  77],\n",
      "        [109, 107, 114, ...,  75,  73,  76]], dtype=uint8)\n",
      " array([[141, 143, 142, ...,  90,  88,  86],\n",
      "        [142, 142, 142, ...,  91,  90,  87],\n",
      "        [139, 140, 140, ...,  92,  90,  87],\n",
      "        ...,\n",
      "        [ 37,  41,  46, ..., 177, 175, 163],\n",
      "        [ 41,  41,  45, ..., 175, 171, 161],\n",
      "        [ 39,  41,  45, ..., 172, 166, 154]], dtype=uint8)\n",
      " array([[113, 115, 121, ...,  40,  36,  32],\n",
      "        [113, 115, 119, ...,  39,  36,  35],\n",
      "        [113, 112, 118, ...,  38,  33,  33],\n",
      "        ...,\n",
      "        [ 55,  53,  56, ..., 136, 126, 116],\n",
      "        [ 56,  56,  59, ..., 134, 123, 116],\n",
      "        [ 56,  58,  58, ..., 134, 124, 121]], dtype=uint8) ...\n",
      " array([[84, 84, 84, ..., 66, 66, 66],\n",
      "        [84, 84, 84, ..., 66, 66, 66],\n",
      "        [84, 84, 84, ..., 66, 66, 66],\n",
      "        ...,\n",
      "        [88, 88, 88, ..., 66, 66, 66],\n",
      "        [88, 88, 88, ..., 66, 66, 66],\n",
      "        [88, 88, 88, ..., 66, 66, 66]], dtype=uint8)\n",
      " array([[46, 46, 46, ..., 66, 67, 67],\n",
      "        [46, 46, 46, ..., 66, 67, 67],\n",
      "        [46, 46, 46, ..., 66, 66, 66],\n",
      "        ...,\n",
      "        [46, 46, 46, ..., 68, 68, 68],\n",
      "        [46, 46, 46, ..., 68, 68, 68],\n",
      "        [46, 46, 46, ..., 68, 68, 68]], dtype=uint8)\n",
      " array([[49, 48, 48, ..., 15, 16, 15],\n",
      "        [49, 48, 48, ..., 16, 15, 15],\n",
      "        [49, 49, 48, ..., 15, 16, 15],\n",
      "        ...,\n",
      "        [48, 48, 48, ..., 19, 19, 19],\n",
      "        [48, 48, 48, ..., 19, 19, 19],\n",
      "        [48, 48, 48, ..., 19, 19, 19]], dtype=uint8)]\n",
      "[0 0 0 ... 1 1 1]\n"
     ]
    }
   ],
   "source": [
    "print(X)\n",
    "print(Y)"
   ]
  },
  {
   "cell_type": "code",
   "execution_count": 7,
   "metadata": {},
   "outputs": [
    {
     "data": {
      "text/plain": [
       "array([array([[0.45490196, 0.44705882, 0.45098039, ..., 0.48235294, 0.49019608,\n",
       "               0.47843137],\n",
       "              [0.45490196, 0.44313725, 0.44313725, ..., 0.48235294, 0.49411765,\n",
       "               0.49019608],\n",
       "              [0.43921569, 0.43529412, 0.43137255, ..., 0.48627451, 0.4745098 ,\n",
       "               0.48627451],\n",
       "              ...,\n",
       "              [0.43529412, 0.43137255, 0.44705882, ..., 0.29411765, 0.29803922,\n",
       "               0.29803922],\n",
       "              [0.43137255, 0.43137255, 0.44705882, ..., 0.30196078, 0.29411765,\n",
       "               0.30196078],\n",
       "              [0.42745098, 0.41960784, 0.44705882, ..., 0.29411765, 0.28627451,\n",
       "               0.29803922]])                                                   ,\n",
       "       array([[0.55294118, 0.56078431, 0.55686275, ..., 0.35294118, 0.34509804,\n",
       "               0.3372549 ],\n",
       "              [0.55686275, 0.55686275, 0.55686275, ..., 0.35686275, 0.35294118,\n",
       "               0.34117647],\n",
       "              [0.54509804, 0.54901961, 0.54901961, ..., 0.36078431, 0.35294118,\n",
       "               0.34117647],\n",
       "              ...,\n",
       "              [0.14509804, 0.16078431, 0.18039216, ..., 0.69411765, 0.68627451,\n",
       "               0.63921569],\n",
       "              [0.16078431, 0.16078431, 0.17647059, ..., 0.68627451, 0.67058824,\n",
       "               0.63137255],\n",
       "              [0.15294118, 0.16078431, 0.17647059, ..., 0.6745098 , 0.65098039,\n",
       "               0.60392157]])                                                   ,\n",
       "       array([[0.44313725, 0.45098039, 0.4745098 , ..., 0.15686275, 0.14117647,\n",
       "               0.1254902 ],\n",
       "              [0.44313725, 0.45098039, 0.46666667, ..., 0.15294118, 0.14117647,\n",
       "               0.1372549 ],\n",
       "              [0.44313725, 0.43921569, 0.4627451 , ..., 0.14901961, 0.12941176,\n",
       "               0.12941176],\n",
       "              ...,\n",
       "              [0.21568627, 0.20784314, 0.21960784, ..., 0.53333333, 0.49411765,\n",
       "               0.45490196],\n",
       "              [0.21960784, 0.21960784, 0.23137255, ..., 0.5254902 , 0.48235294,\n",
       "               0.45490196],\n",
       "              [0.21960784, 0.22745098, 0.22745098, ..., 0.5254902 , 0.48627451,\n",
       "               0.4745098 ]])                                                   ,\n",
       "       ...,\n",
       "       array([[0.32941176, 0.32941176, 0.32941176, ..., 0.25882353, 0.25882353,\n",
       "               0.25882353],\n",
       "              [0.32941176, 0.32941176, 0.32941176, ..., 0.25882353, 0.25882353,\n",
       "               0.25882353],\n",
       "              [0.32941176, 0.32941176, 0.32941176, ..., 0.25882353, 0.25882353,\n",
       "               0.25882353],\n",
       "              ...,\n",
       "              [0.34509804, 0.34509804, 0.34509804, ..., 0.25882353, 0.25882353,\n",
       "               0.25882353],\n",
       "              [0.34509804, 0.34509804, 0.34509804, ..., 0.25882353, 0.25882353,\n",
       "               0.25882353],\n",
       "              [0.34509804, 0.34509804, 0.34509804, ..., 0.25882353, 0.25882353,\n",
       "               0.25882353]])                                                   ,\n",
       "       array([[0.18039216, 0.18039216, 0.18039216, ..., 0.25882353, 0.2627451 ,\n",
       "               0.2627451 ],\n",
       "              [0.18039216, 0.18039216, 0.18039216, ..., 0.25882353, 0.2627451 ,\n",
       "               0.2627451 ],\n",
       "              [0.18039216, 0.18039216, 0.18039216, ..., 0.25882353, 0.25882353,\n",
       "               0.25882353],\n",
       "              ...,\n",
       "              [0.18039216, 0.18039216, 0.18039216, ..., 0.26666667, 0.26666667,\n",
       "               0.26666667],\n",
       "              [0.18039216, 0.18039216, 0.18039216, ..., 0.26666667, 0.26666667,\n",
       "               0.26666667],\n",
       "              [0.18039216, 0.18039216, 0.18039216, ..., 0.26666667, 0.26666667,\n",
       "               0.26666667]])                                                   ,\n",
       "       array([[0.19215686, 0.18823529, 0.18823529, ..., 0.05882353, 0.0627451 ,\n",
       "               0.05882353],\n",
       "              [0.19215686, 0.18823529, 0.18823529, ..., 0.0627451 , 0.05882353,\n",
       "               0.05882353],\n",
       "              [0.19215686, 0.19215686, 0.18823529, ..., 0.05882353, 0.0627451 ,\n",
       "               0.05882353],\n",
       "              ...,\n",
       "              [0.18823529, 0.18823529, 0.18823529, ..., 0.0745098 , 0.0745098 ,\n",
       "               0.0745098 ],\n",
       "              [0.18823529, 0.18823529, 0.18823529, ..., 0.0745098 , 0.0745098 ,\n",
       "               0.0745098 ],\n",
       "              [0.18823529, 0.18823529, 0.18823529, ..., 0.0745098 , 0.0745098 ,\n",
       "               0.0745098 ]])                                                   ],\n",
       "      dtype=object)"
      ]
     },
     "execution_count": 7,
     "metadata": {},
     "output_type": "execute_result"
    }
   ],
   "source": [
    "Preprocessor.normalize_data(X)"
   ]
  },
  {
   "cell_type": "code",
   "execution_count": 13,
   "metadata": {},
   "outputs": [],
   "source": [
    "data = Preprocessor.split_data(X, Y)"
   ]
  },
  {
   "cell_type": "code",
   "execution_count": 14,
   "metadata": {},
   "outputs": [
    {
     "name": "stdout",
     "output_type": "stream",
     "text": [
      "2033\n",
      "509\n",
      "449\n",
      "2033\n",
      "509\n",
      "449\n"
     ]
    }
   ],
   "source": [
    "for el in data:\n",
    "    print(len(el))"
   ]
  },
  {
   "cell_type": "code",
   "execution_count": 41,
   "metadata": {},
   "outputs": [
    {
     "name": "stdout",
     "output_type": "stream",
     "text": [
      "[[33 39 41 ... 51 46 37]\n",
      " [32 39 41 ... 50 45 37]\n",
      " [30 39 41 ... 51 43 37]\n",
      " ...\n",
      " [64 68 70 ...  0  0  0]\n",
      " [64 69 70 ...  0  0  0]\n",
      " [65 69 71 ...  0  0  0]]\n"
     ]
    }
   ],
   "source": [
    "for el in X:\n",
    "    if np.shape(el) == (161, 640):\n",
    "        d = cv2.resize(el, (224,224))\n",
    "        c = el\n",
    "        break\n",
    "print(d)"
   ]
  },
  {
   "cell_type": "code",
   "execution_count": 43,
   "metadata": {},
   "outputs": [
    {
     "data": {
      "text/plain": [
       "-1"
      ]
     },
     "execution_count": 43,
     "metadata": {},
     "output_type": "execute_result"
    }
   ],
   "source": [
    "cv2.imshow('image',c)\n",
    "cv2.waitKey(0)\n",
    "cv2.imshow('image',d)\n",
    "cv2.waitKey(0)"
   ]
  },
  {
   "cell_type": "code",
   "execution_count": 28,
   "metadata": {},
   "outputs": [
    {
     "data": {
      "text/plain": [
       "(224, 224)"
      ]
     },
     "execution_count": 28,
     "metadata": {},
     "output_type": "execute_result"
    }
   ],
   "source": [
    "np.shape(d)"
   ]
  },
  {
   "cell_type": "code",
   "execution_count": 44,
   "metadata": {},
   "outputs": [],
   "source": [
    "left_part =c[:, :320]\n",
    "right_part = c[:, 320:]"
   ]
  },
  {
   "cell_type": "code",
   "execution_count": null,
   "metadata": {},
   "outputs": [
    {
     "data": {
      "text/plain": [
       "-1"
      ]
     },
     "execution_count": 46,
     "metadata": {},
     "output_type": "execute_result"
    }
   ],
   "source": [
    "cv2.imshow('image',c)\n",
    "cv2.waitKey(0)\n",
    "cv2.imshow('image',left_part)\n",
    "cv2.waitKey(0)\n",
    "cv2.imshow('image',right_part)\n",
    "cv2.waitKey(0)"
   ]
  },
  {
   "cell_type": "code",
   "execution_count": 69,
   "metadata": {},
   "outputs": [],
   "source": [
    "indexy = [i for i, v in enumerate(X) if np.shape(v) == (161,640)]"
   ]
  },
  {
   "cell_type": "code",
   "execution_count": 70,
   "metadata": {},
   "outputs": [
    {
     "data": {
      "text/plain": [
       "129"
      ]
     },
     "execution_count": 70,
     "metadata": {},
     "output_type": "execute_result"
    }
   ],
   "source": [
    "len(indexy)"
   ]
  },
  {
   "cell_type": "code",
   "execution_count": 73,
   "metadata": {},
   "outputs": [],
   "source": [
    "wykluczone = [i for i in range(len(X)) if i not in indexy]"
   ]
  },
  {
   "cell_type": "code",
   "execution_count": 75,
   "metadata": {},
   "outputs": [
    {
     "data": {
      "text/plain": [
       "2862"
      ]
     },
     "execution_count": 75,
     "metadata": {},
     "output_type": "execute_result"
    }
   ],
   "source": [
    "len(wykluczone)"
   ]
  },
  {
   "cell_type": "code",
   "execution_count": 80,
   "metadata": {},
   "outputs": [
    {
     "data": {
      "text/plain": [
       "array([1, 1, 1, 1, 0, 0, 1, 1, 0, 0, 1, 1, 1, 1, 0, 0, 0, 0])"
      ]
     },
     "execution_count": 80,
     "metadata": {},
     "output_type": "execute_result"
    }
   ],
   "source": [
    "x = [1,1,0,1,0,1,1,0,0]\n",
    "np.repeat(x,2)"
   ]
  },
  {
   "cell_type": "code",
   "execution_count": 107,
   "metadata": {},
   "outputs": [],
   "source": [
    "x, y = Preprocessor.split_wide_photos(X,Y)"
   ]
  },
  {
   "cell_type": "code",
   "execution_count": 108,
   "metadata": {},
   "outputs": [],
   "source": [
    "X_res = Preprocessor.resize_photos(x)"
   ]
  },
  {
   "cell_type": "code",
   "execution_count": 111,
   "metadata": {},
   "outputs": [
    {
     "data": {
      "text/plain": [
       "-1"
      ]
     },
     "execution_count": 111,
     "metadata": {},
     "output_type": "execute_result"
    }
   ],
   "source": [
    "cv2.imshow('image',X_res[2011])\n",
    "cv2.waitKey(0)"
   ]
  },
  {
   "cell_type": "code",
   "execution_count": 113,
   "metadata": {},
   "outputs": [
    {
     "data": {
      "text/plain": [
       "3120"
      ]
     },
     "execution_count": 113,
     "metadata": {},
     "output_type": "execute_result"
    }
   ],
   "source": [
    "len(X_res)\n",
    "len(y)"
   ]
  },
  {
   "cell_type": "code",
   "execution_count": null,
   "metadata": {},
   "outputs": [
    {
     "data": {
      "text/plain": [
       "-1"
      ]
     },
     "execution_count": 114,
     "metadata": {},
     "output_type": "execute_result"
    }
   ],
   "source": [
    "test = X_res[0]"
   ]
  },
  {
   "cell_type": "code",
   "execution_count": 123,
   "metadata": {},
   "outputs": [],
   "source": [
    "test_fliped = cv2.flip(test,1)"
   ]
  },
  {
   "cell_type": "code",
   "execution_count": 126,
   "metadata": {},
   "outputs": [
    {
     "data": {
      "text/plain": [
       "-1"
      ]
     },
     "execution_count": 126,
     "metadata": {},
     "output_type": "execute_result"
    }
   ],
   "source": [
    "cv2.imshow('image',test)\n",
    "cv2.waitKey(0)\n",
    "cv2.imshow('image',test_fliped)\n",
    "cv2.waitKey(0)"
   ]
  },
  {
   "cell_type": "code",
   "execution_count": 137,
   "metadata": {},
   "outputs": [],
   "source": [
    "X_flip, Y_flip = Preprocessor.flip_photos(X_res,y)"
   ]
  },
  {
   "cell_type": "code",
   "execution_count": 139,
   "metadata": {},
   "outputs": [
    {
     "data": {
      "text/plain": [
       "-1"
      ]
     },
     "execution_count": 139,
     "metadata": {},
     "output_type": "execute_result"
    }
   ],
   "source": [
    "cv2.imshow('image',X_flip[0])\n",
    "cv2.waitKey(0)\n",
    "cv2.imshow('image',X_flip[1])\n",
    "cv2.waitKey(0)"
   ]
  },
  {
   "cell_type": "code",
   "execution_count": 131,
   "metadata": {},
   "outputs": [],
   "source": [
    "cos = np.repeat(x,2)"
   ]
  },
  {
   "cell_type": "code",
   "execution_count": 150,
   "metadata": {},
   "outputs": [],
   "source": [
    "X_train, X_test, X_val, Y_train, Y_test, Y_val = Preprocessor.split_data(X,Y)"
   ]
  }
 ],
 "metadata": {
  "kernelspec": {
   "display_name": "bsc-venv",
   "language": "python",
   "name": "python3"
  },
  "language_info": {
   "codemirror_mode": {
    "name": "ipython",
    "version": 3
   },
   "file_extension": ".py",
   "mimetype": "text/x-python",
   "name": "python",
   "nbconvert_exporter": "python",
   "pygments_lexer": "ipython3",
   "version": "3.13.0"
  }
 },
 "nbformat": 4,
 "nbformat_minor": 2
}
