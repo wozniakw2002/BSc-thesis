{
 "cells": [
  {
   "cell_type": "code",
   "execution_count": null,
   "metadata": {},
   "outputs": [],
   "source": [
    "%load_ext autoreload\n",
    "%autoreload 2\n",
    "import os\n",
    "if 'Notebooks' in os.getcwd():\n",
    "    project_root = os.path.abspath(os.path.join(os.getcwd(), \"..\"))\n",
    "    os.chdir(project_root)\n",
    "from Modules.ModelModule import DataPreparation\n",
    "import tensorflow as tf\n",
    "from tensorflow.keras.models import Sequential\n",
    "from tensorflow.keras.layers import Conv2D, MaxPooling2D, Flatten, Dense, Dropout, Input\n",
    "from Modules.DataLoaderModule import DataLoader\n",
    "from Modules.PreprocessingModule import Preprocessor\n",
    "from keras_tuner import Hyperband"
   ]
  },
  {
   "cell_type": "code",
   "execution_count": 2,
   "metadata": {},
   "outputs": [],
   "source": [
    "loader = DataLoader()\n",
    "X, Y = loader.load_data_from_folder_as_png('data')\n",
    "X_train, X_test, X_val, Y_train, Y_test, Y_val = Preprocessor.split_data(X, Y)\n",
    "\n",
    "\n",
    "X_train, Y_train = DataPreparation.data_formatting(\n",
    "     Preprocessor.preprocessing(X_train, Y_train)\n",
    ")\n",
    "\n",
    "X_val, Y_val = DataPreparation.data_formatting(\n",
    "    Preprocessor.preprocessing(X_val, Y_val)\n",
    ")\n",
    "X_test, Y_test = DataPreparation.data_formatting(\n",
    "    Preprocessor.preprocessing(X_test, Y_test)\n",
    ")\n"
   ]
  },
  {
   "cell_type": "code",
   "execution_count": 10,
   "metadata": {},
   "outputs": [],
   "source": [
    "def build_model(hp):\n",
    "    kernel_size_1 = hp.Choice('kernel_size_1', [3, 5, 7])\n",
    "    kernel_size_2 = hp.Choice('kernel_size_2', [3, 5, 7]) \n",
    "    model = Sequential([\n",
    "        Input(shape=(224, 224, 1)),\n",
    "        Conv2D(\n",
    "            filters=hp.Int('conv_1_filters', min_value=16, max_value=64, step=16), \n",
    "            kernel_size=(kernel_size_1, kernel_size_1),\n",
    "            activation='relu'\n",
    "        ),\n",
    "        MaxPooling2D((2, 2)),\n",
    "        Conv2D(\n",
    "            filters=hp.Int('conv_2_filters', min_value=32, max_value=128, step=32), \n",
    "            kernel_size=(kernel_size_2, kernel_size_2), \n",
    "            activation='relu'\n",
    "        ),\n",
    "        MaxPooling2D((2, 2)),\n",
    "        Flatten(),\n",
    "        Dense(\n",
    "            units=hp.Int('dense_units', min_value=32, max_value=128, step=32), \n",
    "            activation='relu'\n",
    "        ),\n",
    "        Dropout(hp.Float('dropout_rate', min_value=0.2, max_value=0.5, step=0.1)),\n",
    "        Dense(1, activation='sigmoid')\n",
    "    ])\n",
    "\n",
    "    model.compile(\n",
    "        optimizer='adam',\n",
    "        loss='binary_crossentropy',\n",
    "        metrics=['accuracy', 'AUC', 'Precision', 'Recall']\n",
    "    )\n",
    "    return model\n",
    "\n"
   ]
  },
  {
   "cell_type": "code",
   "execution_count": null,
   "metadata": {},
   "outputs": [],
   "source": [
    "tuner = Hyperband(\n",
    "    build_model,\n",
    "    objective='val_loss',   \n",
    "    max_epochs=20,              \n",
    "    factor=3,                   \n",
    "    directory='ModelTests',\n",
    "    project_name='cnn_complex'  \n",
    ")\n",
    "\n",
    "stop_early = tf.keras.callbacks.EarlyStopping(monitor='val_loss', patience=3)\n",
    "\n",
    "\n",
    "tuner.search(\n",
    "    X_train, Y_train,                    \n",
    "    validation_data=(X_val, Y_val), \n",
    "    callbacks=[stop_early]          \n",
    ")"
   ]
  }
 ],
 "metadata": {
  "kernelspec": {
   "display_name": ".venv",
   "language": "python",
   "name": "python3"
  },
  "language_info": {
   "codemirror_mode": {
    "name": "ipython",
    "version": 3
   },
   "file_extension": ".py",
   "mimetype": "text/x-python",
   "name": "python",
   "nbconvert_exporter": "python",
   "pygments_lexer": "ipython3",
   "version": "3.12.7"
  }
 },
 "nbformat": 4,
 "nbformat_minor": 2
}
